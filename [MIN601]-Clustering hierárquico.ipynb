{
 "cells": [
  {
   "cell_type": "markdown",
   "metadata": {},
   "source": [
    "<h1><center>Clustering hierárquico</center></h1>"
   ]
  },
  {
   "cell_type": "markdown",
   "metadata": {},
   "source": [
    "Clustering hierárquico - Agglomerative\n",
    "\n",
    "Nesta aula veremos uma técnica de clustering, que é o <b>Clustering Hierárquico Aglomerativo (_Agglomerative_)</b>. Lembre-se de que o Clustering Hierárquico Aglomerativo é a abordagem de baixo para cima.<br> <br>\n",
    "O Clustering Hierárquico Aglomerativo é o mais popular que o Clustering de Divisão (_Divisive_). <br> <br>\n",
    "Também estaremos usando o Complete Linkage como o Critério de Linkage. <br>\n",
    "<b><i>Obs.: Você também pode tentar usar o Average Linkage onde o Complete Linkage for usado para ver a diferença!</i> </b>"
   ]
  },
  {
   "cell_type": "markdown",
   "metadata": {},
   "source": [
    "# Importando os pacotes necessários"
   ]
  },
  {
   "cell_type": "code",
   "execution_count": null,
   "metadata": {},
   "outputs": [],
   "source": [
    "import numpy as np \n",
    "import pandas as pd\n",
    "from scipy import ndimage \n",
    "from scipy.cluster import hierarchy \n",
    "from scipy.spatial import distance_matrix \n",
    "from matplotlib import pyplot as plt \n",
    "from sklearn import manifold, datasets \n",
    "from sklearn.cluster import AgglomerativeClustering \n",
    "from sklearn.datasets.samples_generator import make_blobs \n",
    "%matplotlib inline"
   ]
  },
  {
   "cell_type": "markdown",
   "metadata": {},
   "source": [
    "## Gerando os dados aleatoriamente\n",
    "\n",
    "Nós vamos gerar um conjunto de dados usando a classe __make_blobs__. <br> <br>\n",
    "Entre estes parâmetros em make_blobs:\n",
    "<ul>\n",
    "     <li> <b> n_samples </b>: o número total de pontos igualmente divididos entre os clusters. </li>\n",
    "     <ul> <li> Escolha um número entre 10-1500 </li> </ul>\n",
    "     <li> <b> centers </b>: o número de centros a gerar ou os locais centrais fixos. </li>\n",
    "     <ul> <li> Escolha matrizes de coordenadas x, y para gerar os centros. Tem 1-10 centros (ex. Centros = [[1,1], [2,5]]) </li> </ul>\n",
    "     <li> <b> cluster_std </b>: o desvio padrão dos clusters. Quanto maior o número, mais distantes os clusters </li>\n",
    "     <ul> <li> Escolha um número entre 0,5-1,5 </li> </ul>\n",
    "</ul> <br>\n",
    "Salve o resultado para <b> X1 </b> e <b> y1 </b>."
   ]
  },
  {
   "cell_type": "code",
   "execution_count": null,
   "metadata": {},
   "outputs": [],
   "source": [
    "X1, y1 = make_blobs(n_samples=50, centers=[[4,4], [-2, -1], [1, 1], [10,4]], cluster_std=0.9)"
   ]
  },
  {
   "cell_type": "markdown",
   "metadata": {},
   "source": [
    "Plotar o gráfico de dispersão dos dados gerados aleatoriamente:"
   ]
  },
  {
   "cell_type": "code",
   "execution_count": null,
   "metadata": {},
   "outputs": [],
   "source": [
    "plt.scatter(X1[:, 0], X1[:, 1], marker='o') "
   ]
  },
  {
   "cell_type": "markdown",
   "metadata": {},
   "source": [
    "## Clustering Aglomerativo\n",
    "Vamos começar agrupando os pontos de dados aleatórios que acabamos de criar."
   ]
  },
  {
   "cell_type": "markdown",
   "metadata": {},
   "source": [
    "A classe <b> Agglomerative Clustering </b> requer duas entradas:\n",
    "<ul>\n",
    "     <li> <b> n_clusters </b>: o número de clusters a serem formados, bem como o número de centróides a serem gerados. </li>\n",
    "     <ul> <li> O valor será: 4 </li> </ul>\n",
    "     <li> <b> linkage </b>: Qual critério de vinculação usar. O critério de ligação determina qual distância usar entre conjuntos de observação. O algoritmo mesclará os pares de cluster que minimizam esse critério. </li>\n",
    "     <ul>\n",
    "         <li> O valor será: 'complete' </li>\n",
    "         <li> <b> Obs.:</b> é recomendável que você experimente todos os critérios, como por exemplo 'average'</li>\n",
    "     </ul>\n",
    "</ul> <br>\n",
    "Salve o resultado em uma variável chamada <b>agglom</b>"
   ]
  },
  {
   "cell_type": "code",
   "execution_count": null,
   "metadata": {},
   "outputs": [],
   "source": [
    "agglom = AgglomerativeClustering(n_clusters = 4, linkage = 'complete') #Substitua 'complete' por 'average' por exemplo"
   ]
  },
  {
   "cell_type": "markdown",
   "metadata": {},
   "source": [
    "Ajuste o modelo com __X1__ e __y1__ a partir dos dados gerados acima."
   ]
  },
  {
   "cell_type": "code",
   "execution_count": null,
   "metadata": {
    "scrolled": true
   },
   "outputs": [],
   "source": [
    "agglom.fit(X1,y1)"
   ]
  },
  {
   "cell_type": "markdown",
   "metadata": {},
   "source": [
    "Execute o seguinte código para mostrar o clustering! <br>\n",
    "Lembre-se de ler o código e os comentários para obter mais compreensão sobre como a exibição funciona."
   ]
  },
  {
   "cell_type": "code",
   "execution_count": null,
   "metadata": {},
   "outputs": [],
   "source": [
    "# Crie uma figura de tamanho 6 polegadas por 4 polegadas.\n",
    "plt.figure(figsize=(6,4))\n",
    "\n",
    "# Essas duas linhas de código são usadas para redimensionar os pontos de dados,\n",
    "# Senão os pontos de dados ficarão muito distantes.\n",
    "\n",
    "# Crie um intervalo mínimo e máximo de X1.\n",
    "x_min, x_max = np.min(X1, axis=0), np.max(X1, axis=0)\n",
    "\n",
    "# Obtenha a distância média de X1.\n",
    "X1 = (X1 - x_min) / (x_max - x_min)\n",
    "\n",
    "# Esse loop exibe todos os pontos de dados.\n",
    "for i in range(X1.shape[0]):\n",
    "    # Substitua os pontos de dados pelo respectivo valor de cluster\n",
    "    # (ex. 0) e é codificado por cores com um mapa de cores (plt.cm.spectral)\n",
    "    plt.text(X1[i, 0], X1[i, 1], str(y1[i]),\n",
    "             color=plt.cm.nipy_spectral(agglom.labels_[i] / 10.),\n",
    "             fontdict={'weight': 'bold', 'size': 9})\n",
    "    \n",
    "# Remove as marcações nos eixos x e y\n",
    "plt.xticks([])\n",
    "plt.yticks([])\n",
    "#plt.axis('off')\n",
    "\n",
    "\n",
    "\n",
    "# Exibir o gráfico dos dados originais antes de clusterizar\n",
    "plt.scatter(X1[:, 0], X1[:, 1], marker='.')\n",
    "# Exibe o gráfico\n",
    "plt.show()"
   ]
  },
  {
   "cell_type": "markdown",
   "metadata": {},
   "source": [
    "\n",
    "## Dendrograma Associado ao Clustering Hierárquico Aglomerativo\n",
    "\n",
    "Lembre-se de que uma __matriz de distância__ contém a __distância de cada ponto a todos os outros pontos de um conjunto de dados__. <br>\n",
    "Use a função __distance_matrix__, que requer __duas entradas__. Use a Matriz de Recursos, __X1__ como entradas e salve a matriz de distância em uma variável chamada __dist_matrix__ <br> <br>\n",
    "Lembre-se de que os valores de distância são simétricos, com uma diagonal de 0s. Esta é uma maneira de garantir que sua matriz esteja correta. <br> (imprima dist_matrix para se certificar de que está correto)"
   ]
  },
  {
   "cell_type": "code",
   "execution_count": null,
   "metadata": {
    "scrolled": true
   },
   "outputs": [],
   "source": [
    "dist_matrix = distance_matrix(X1,X1) \n",
    "print(dist_matrix)"
   ]
  },
  {
   "cell_type": "markdown",
   "metadata": {},
   "source": [
    "Usando a classe <b>linkage</b> de hierarchy, passe os parâmetros:\n",
    "<ul>\n",
    "     <li> A matriz de distância </li>\n",
    "     <li> 'complete' para ligação completa </li>\n",
    "</ul> <br>\n",
    "Salve o resultado em uma variável chamada <b> Z </b>"
   ]
  },
  {
   "cell_type": "code",
   "execution_count": null,
   "metadata": {},
   "outputs": [],
   "source": [
    "Z = hierarchy.linkage(dist_matrix, 'complete')"
   ]
  },
  {
   "cell_type": "markdown",
   "metadata": {},
   "source": [
    "Um clustering hierárquico é normalmente visualizado como um dendrograma, conforme mostrado na célula a seguir. Cada mesclagem é representada por uma linha horizontal. A coordenada y da linha horizontal é a similaridade dos dois clusters que foram mesclados, onde as cidades são vistas como clusters singleton.\n",
    "Movendo-se da camada inferior para o nó superior, um dendrograma nos permite reconstruir o histórico de mesclagens que resultaram no agrupamento representado.\n",
    "\n",
    "Em seguida, salvaremos o dendrograma em uma variável chamada <b>dendro</b>. Ao fazer isso, o dendrograma também será exibido.\n",
    "Usando a classe <b> dendrogram </b> de hierarchy, passe o parâmetro:\n",
    "<ul> <li> Z </li> </ul>"
   ]
  },
  {
   "cell_type": "code",
   "execution_count": null,
   "metadata": {},
   "outputs": [],
   "source": [
    "dendro = hierarchy.dendrogram(Z)"
   ]
  },
  {
   "cell_type": "markdown",
   "metadata": {},
   "source": [
    "## Prática\n",
    "\n",
    "Usamos a ligação __complete__ para o nosso caso, altere para a ligação __average__ para ver como o dendograma muda."
   ]
  },
  {
   "cell_type": "code",
   "execution_count": null,
   "metadata": {},
   "outputs": [],
   "source": [
    "# Escreva seu código aqui\n"
   ]
  },
  {
   "cell_type": "markdown",
   "metadata": {},
   "source": [
    "Duplo-clique __aqui__ para a solução.\n",
    "\n",
    "<!-- Sua resposta abaixo:\n",
    "    \n",
    "Z = hierarchy.linkage(dist_matrix, 'average')\n",
    "dendro = hierarchy.dendrogram(Z)\n",
    "\n",
    "-->"
   ]
  },
  {
   "cell_type": "markdown",
   "metadata": {},
   "source": [
    "<hr>\n",
    "\n",
    "# Clustering em um conjunto de dados de veículos\n",
    "\n",
    "Imagine que um fabricante de automóveis tenha desenvolvido protótipos para um novo veículo. Antes de introduzir o novo modelo em sua linha, o fabricante quer determinar quais veículos existentes no mercado são mais parecidos com os protótipos - ou seja, como os veículos podem ser agrupados, qual grupo é o mais similar ao modelo e, portanto, quais modelos eles estarão fazendo concorrência com os protótipos.\n",
    "\n",
    "Nosso objetivo aqui é usar métodos de clustering para encontrar os clusters mais distintos de veículos. Resumirá os veículos existentes e ajudará os fabricantes a tomar decisões sobre o fornecimento de novos modelos."
   ]
  },
  {
   "cell_type": "markdown",
   "metadata": {},
   "source": [
    "### Download dos dados\n",
    "O download dos dados que iremos utilizar nesse exemplo pode ser realizado por meio do IBM Object Storage, disponível em:"
   ]
  },
  {
   "cell_type": "markdown",
   "metadata": {},
   "source": [
    "https://s3-api.us-geo.objectstorage.softlayer.net/cf-courses-data/CognitiveClass/ML0101ENv3/labs/cars_clus.csv"
   ]
  },
  {
   "cell_type": "markdown",
   "metadata": {},
   "source": [
    "## Lendo os dados\n",
    "Vamos ler o conjunto de dados para ver quais recursos o fabricante coletou sobre os modelos existentes."
   ]
  },
  {
   "cell_type": "code",
   "execution_count": null,
   "metadata": {},
   "outputs": [],
   "source": [
    "filename = 'cars_clus.csv'\n",
    "\n",
    "# Lê o arquivo csv\n",
    "pdf = pd.read_csv(filename)\n",
    "print (\"Formato do conjunto de dados: \", pdf.shape)\n",
    "\n",
    "pdf.head(5)"
   ]
  },
  {
   "cell_type": "markdown",
   "metadata": {},
   "source": [
    "O conjunto de características presentes no conjunto de dados incluem preço em milhares de dólares (price), tamanho do motor (engine_s), potência (horsepow), distância entre eixos (wheelbas), largura (width), comprimento (length), peso (curb_wgt), tamanho do tanque (fuel_cap) e efciência (mpg)."
   ]
  },
  {
   "cell_type": "markdown",
   "metadata": {},
   "source": [
    "## Limpando os dados\n",
    "\n",
    "Vamos simplesmente limpar o conjunto de dados deletando as linhas que possuem valor nulo:"
   ]
  },
  {
   "cell_type": "code",
   "execution_count": null,
   "metadata": {},
   "outputs": [],
   "source": [
    "print (\"Formato do conjunto de dados antes da limpeza: \", pdf.size)\n",
    "pdf[[ 'sales', 'resale', 'type', 'price', 'engine_s',\n",
    "       'horsepow', 'wheelbas', 'width', 'length', 'curb_wgt', 'fuel_cap',\n",
    "       'mpg', 'lnsales']] = pdf[['sales', 'resale', 'type', 'price', 'engine_s',\n",
    "       'horsepow', 'wheelbas', 'width', 'length', 'curb_wgt', 'fuel_cap',\n",
    "       'mpg', 'lnsales']].apply(pd.to_numeric, errors='coerce')\n",
    "pdf = pdf.dropna()\n",
    "pdf = pdf.reset_index(drop=True)\n",
    "print (\"Formato do conjunto de dados depois da limpeza: \", pdf.size)\n",
    "pdf.head(5)"
   ]
  },
  {
   "cell_type": "markdown",
   "metadata": {},
   "source": [
    "### Seleção das características\n",
    "Vamos selecionar nosso conjunto de características:"
   ]
  },
  {
   "cell_type": "code",
   "execution_count": null,
   "metadata": {},
   "outputs": [],
   "source": [
    "featureset = pdf[['engine_s',  'horsepow', 'wheelbas', 'width', 'length', 'curb_wgt', 'fuel_cap', 'mpg']]"
   ]
  },
  {
   "cell_type": "markdown",
   "metadata": {},
   "source": [
    "### Normalização\n",
    "\n",
    "Agora podemos normalizar o conjunto de características. __MinMaxScaler__ transforma as características escalonando cada característica para um determinado intervalo. Por padrão o intervalo utilizado é o de (0, 1). Ou seja, esse estimador dimensiona e traduz cada característica individualmente de modo que esteja entre zero e um."
   ]
  },
  {
   "cell_type": "code",
   "execution_count": null,
   "metadata": {},
   "outputs": [],
   "source": [
    "from sklearn.preprocessing import MinMaxScaler\n",
    "x = featureset.values # retorna um array do numpy\n",
    "min_max_scaler = MinMaxScaler()\n",
    "feature_mtx = min_max_scaler.fit_transform(x)\n",
    "feature_mtx [0:5]"
   ]
  },
  {
   "cell_type": "markdown",
   "metadata": {},
   "source": [
    "## Clustering usando o Scipy\n",
    "Nesta parte, usamos o pacote Scipy para agrupar o conjunto de dados:\n",
    "Primeiro, calculamos a matriz de distância."
   ]
  },
  {
   "cell_type": "code",
   "execution_count": null,
   "metadata": {},
   "outputs": [],
   "source": [
    "import scipy\n",
    "leng = feature_mtx.shape[0]\n",
    "D = scipy.zeros([leng,leng])\n",
    "for i in range(leng):\n",
    "    for j in range(leng):\n",
    "        D[i,j] = scipy.spatial.distance.euclidean(feature_mtx[i], feature_mtx[j])"
   ]
  },
  {
   "cell_type": "markdown",
   "metadata": {},
   "source": [
    "No clustering aglomerativo, em cada iteração, o algoritmo deve atualizar a matriz de distância para refletir a distância do novo cluster formado com os clusters restantes na floresta.\n",
    "Os seguintes métodos são suportados no Scipy para calcular as distâncias:\n",
    "    - single\n",
    "    - complete\n",
    "    - average\n",
    "    - weighted\n",
    "    - centroid\n",
    "    \n",
    "    \n",
    "Utilizamos __complete__ para o nosso caso, mas sinta-se à vontade para mudar e ver como os resultados são afetados."
   ]
  },
  {
   "cell_type": "code",
   "execution_count": null,
   "metadata": {},
   "outputs": [],
   "source": [
    "import pylab\n",
    "import scipy.cluster.hierarchy\n",
    "Z = hierarchy.linkage(D, 'complete')"
   ]
  },
  {
   "cell_type": "markdown",
   "metadata": {},
   "source": [
    "Essencialmente, o cluster hierárquico não requer um número pré-especificado de clusters. No entanto, em algumas aplicações, queremos uma separação de clusters, assim como no cluster simples.\n",
    "Então você pode usar uma linha de corte:"
   ]
  },
  {
   "cell_type": "code",
   "execution_count": null,
   "metadata": {},
   "outputs": [],
   "source": [
    "from scipy.cluster.hierarchy import fcluster\n",
    "max_d = 3\n",
    "clusters = fcluster(Z, max_d, criterion='distance')\n",
    "clusters"
   ]
  },
  {
   "cell_type": "markdown",
   "metadata": {},
   "source": [
    "Além disso, você pode determinar o número de clusters diretamente:"
   ]
  },
  {
   "cell_type": "code",
   "execution_count": null,
   "metadata": {},
   "outputs": [],
   "source": [
    "from scipy.cluster.hierarchy import fcluster\n",
    "k = 5\n",
    "clusters = fcluster(Z, k, criterion='maxclust')\n",
    "clusters\n"
   ]
  },
  {
   "cell_type": "markdown",
   "metadata": {},
   "source": [
    "Agora, exiba o dendrograma:"
   ]
  },
  {
   "cell_type": "code",
   "execution_count": null,
   "metadata": {},
   "outputs": [],
   "source": [
    "fig = pylab.figure(figsize=(18,50))\n",
    "def llf(id):\n",
    "    return '[%s %s %s]' % (pdf['manufact'][id], pdf['model'][id], int(float(pdf['type'][id])) )\n",
    "    \n",
    "dendro = hierarchy.dendrogram(Z,  leaf_label_func=llf, leaf_rotation=0, leaf_font_size =12, orientation = 'right')"
   ]
  },
  {
   "cell_type": "markdown",
   "metadata": {},
   "source": [
    "## Clustering usando o scikit-learn\n",
    "Vamos refazer o exercício, mas desta vez usando o pacote scikit-learn:"
   ]
  },
  {
   "cell_type": "code",
   "execution_count": null,
   "metadata": {},
   "outputs": [],
   "source": [
    "dist_matrix = distance_matrix(feature_mtx,feature_mtx) \n",
    "print(dist_matrix)"
   ]
  },
  {
   "cell_type": "markdown",
   "metadata": {},
   "source": [
    "Agora, podemos usar a função 'AgglomerativeClustering' da biblioteca scikit-learn para agrupar o conjunto de dados. O AgglomerativeClustering realiza um agrupamento hierárquico usando uma abordagem de baixo para cima. Os critérios de ligação determinam a métrica usada para a estratégia de mesclagem:\n",
    "\n",
    "- Ward ('ward') minimiza a soma das diferenças quadradas dentro de todos os clusters. É uma abordagem que minimiza a variação e, nesse sentido, é semelhante à função objetivo k-means, mas com uma abordagem hierárquica aglomerativa.\n",
    "- A ligação máxima ou completa ('complete') minimiza a distância máxima entre observações de pares de clusters.\n",
    "- A ligação média ('average') minimiza a média das distâncias entre todas as observações de pares de clusters."
   ]
  },
  {
   "cell_type": "code",
   "execution_count": null,
   "metadata": {},
   "outputs": [],
   "source": [
    "agglom = AgglomerativeClustering(n_clusters = 6, linkage = 'complete')\n",
    "agglom.fit(feature_mtx)\n",
    "agglom.labels_"
   ]
  },
  {
   "cell_type": "markdown",
   "metadata": {},
   "source": [
    "E podemos adicionar um novo campo ao nosso dataframe para mostrar o cluster de cada linha:"
   ]
  },
  {
   "cell_type": "code",
   "execution_count": null,
   "metadata": {},
   "outputs": [],
   "source": [
    "pdf['cluster_'] = agglom.labels_\n",
    "pdf.head()"
   ]
  },
  {
   "cell_type": "code",
   "execution_count": null,
   "metadata": {},
   "outputs": [],
   "source": [
    "import matplotlib.cm as cm\n",
    "n_clusters = max(agglom.labels_)+1\n",
    "colors = cm.rainbow(np.linspace(0, 1, n_clusters))\n",
    "cluster_labels = list(range(0, n_clusters))\n",
    "\n",
    "# Cria uma figura de tamanho 6 polegadas por 4 polegadas.\n",
    "plt.figure(figsize=(16,14))\n",
    "\n",
    "for color, label in zip(colors, cluster_labels):\n",
    "    subset = pdf[pdf.cluster_ == label]\n",
    "    for i in subset.index:\n",
    "            plt.text(subset.horsepow[i], subset.mpg[i],str(subset['model'][i]), rotation=25) \n",
    "    plt.scatter(subset.horsepow, subset.mpg, s= subset.price*10, c=color, label='cluster'+str(label),alpha=0.5)\n",
    "#    plt.scatter(subset.horsepow, subset.mpg)\n",
    "plt.legend()\n",
    "plt.title('Clusters')\n",
    "plt.xlabel('horsepow')\n",
    "plt.ylabel('mpg')"
   ]
  },
  {
   "cell_type": "markdown",
   "metadata": {},
   "source": [
    "Como você pode ver, estamos vendo a distribuição de cada cluster usando o gráfico de dispersão, mas não está muito claro onde está o centróide de cada cluster. Além disso, há dois tipos de veículos em nosso conjunto de dados, \"caminhão\" (valor de 1 na coluna de tipo) e \"carro\" (valor de 0 na coluna de tipo). Então, nós os usamos para distinguir as classes e resumir o cluster. Primeiro contamos o número de casos em cada grupo:"
   ]
  },
  {
   "cell_type": "code",
   "execution_count": null,
   "metadata": {},
   "outputs": [],
   "source": [
    "pdf.groupby(['cluster_','type'])['cluster_'].count()"
   ]
  },
  {
   "cell_type": "markdown",
   "metadata": {},
   "source": [
    "Agora podemos observar as características de cada cluster:"
   ]
  },
  {
   "cell_type": "code",
   "execution_count": null,
   "metadata": {},
   "outputs": [],
   "source": [
    "agg_cars = pdf.groupby(['cluster_','type'])['horsepow','engine_s','mpg','price'].mean()\n",
    "agg_cars"
   ]
  },
  {
   "cell_type": "markdown",
   "metadata": {},
   "source": [
    "É óbvio que temos 3 clusters principais com a maioria dos veículos neles.\n",
    "\n",
    "__Carros__:\n",
    "- Cluster 1: com alta eficiência (mpg) e baixa potência (horsepow).\n",
    "- Cluster 2: com boa eficiência (mpg) e boa potência (horsepow), mas com preço (price) mais alto que a média.\n",
    "- Cluster 3: com baixa eficiência (mpg), alta potência (horsepow), maior preço (price).\n",
    "    \n",
    "    \n",
    "    \n",
    "__Caminhões__:\n",
    "- Cluster 1: com maior eficiência entre os caminhões (mpg), baixa potência (horsepow) e preço baixo (price).\n",
    "- Cluster 2: com baixa eficiência (mpg) e potência média (horsepow), mas com preço (price) mais alto que a média.\n",
    "- Cluster 3: com boa eficiência (mpg) e boa potência (horsepow), baixo preço (price).\n",
    "\n",
    "\n",
    "Observe que não usamos __type__ e __price__ de carros no processo de cluster, mas o cluster hierárquico poderia criar os clusters e discriminá-los com bastante precisão."
   ]
  },
  {
   "cell_type": "code",
   "execution_count": null,
   "metadata": {},
   "outputs": [],
   "source": [
    "plt.figure(figsize=(16,10))\n",
    "for color, label in zip(colors, cluster_labels):\n",
    "    subset = agg_cars.loc[(label,),]\n",
    "    for i in subset.index:\n",
    "        plt.text(subset.loc[i][0]+5, subset.loc[i][2], 'type='+str(int(i)) + ', price='+str(int(subset.loc[i][3]))+'k')\n",
    "    plt.scatter(subset.horsepow, subset.mpg, s=subset.price*20, c=color, label='cluster'+str(label))\n",
    "plt.legend()\n",
    "plt.title('Clusters')\n",
    "plt.xlabel('horsepow')\n",
    "plt.ylabel('mpg')\n"
   ]
  },
  {
   "cell_type": "markdown",
   "metadata": {},
   "source": [
    "Esta aula foi desenvolvida com base no material disponibilizado por Saeed Aghabozorgi\n",
    "\n",
    "<p>Copyright &copy; 2018 <a href=\"https://cocl.us/DX0108EN_CC\">Cognitive Class</a>. This notebook and its source code are released under the terms of the <a href=\"https://bigdatauniversity.com/mit-license/\">MIT License</a>.</p>"
   ]
  }
 ],
 "metadata": {
  "kernelspec": {
   "display_name": "Python 3",
   "language": "python",
   "name": "python3"
  },
  "language_info": {
   "codemirror_mode": {
    "name": "ipython",
    "version": 3
   },
   "file_extension": ".py",
   "mimetype": "text/x-python",
   "name": "python",
   "nbconvert_exporter": "python",
   "pygments_lexer": "ipython3",
   "version": "3.7.1"
  }
 },
 "nbformat": 4,
 "nbformat_minor": 2
}
