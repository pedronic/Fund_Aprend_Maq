{
 "cells": [
  {
   "cell_type": "markdown",
   "metadata": {
    "button": false,
    "new_sheet": false,
    "run_control": {
     "read_only": false
    }
   },
   "source": [
    "<h1><center>K-Means Clustering</center></h1>"
   ]
  },
  {
   "cell_type": "markdown",
   "metadata": {
    "button": false,
    "new_sheet": false,
    "run_control": {
     "read_only": false
    }
   },
   "source": [
    "## Introdução\n",
    "\n",
    "Existem muitos modelos para **clustering** por aí. Neste aula, apresentaremos o modelo considerado um dos modelos mais simples entre eles. Apesar de sua simplicidade, o **K-means** é amplamente usado para clustering em muitos aplicativos de ciência de dados, é especialmente útil se você precisar descobrir rapidamente insights a partir de **dados não rotulados**. Nesta aula, você aprenderá a usar o k-Means para segmentação de clientes.\n",
    "\n",
    "Algumas aplicações do mundo real de k-means:\n",
    "- Segmentação de clientes\n",
    "- Entender o que os visitantes de um website estão tentando realizar\n",
    "- Reconhecimento de padrões\n",
    "- Aprendizado de máquina\n",
    "- Compressão de dados\n",
    "\n",
    "Nesta aula, praticamos o agrupamento k-means com 2 exemplos:\n",
    "- k-means em um conjunto de dados gerado aleatoriamente\n",
    "- Uso de k-means para segmentação de clientes"
   ]
  },
  {
   "cell_type": "markdown",
   "metadata": {
    "button": false,
    "new_sheet": false,
    "run_control": {
     "read_only": false
    }
   },
   "source": [
    "# Importando os pacotes necessários\n",
    "\n",
    "Vamos primeiro importar os pacotes necessários.\n",
    "Também execute <b>%matplotlib inline </b>, já que estaremos plotando gráficos nesta seção."
   ]
  },
  {
   "cell_type": "code",
   "execution_count": null,
   "metadata": {
    "button": false,
    "new_sheet": false,
    "run_control": {
     "read_only": false
    }
   },
   "outputs": [],
   "source": [
    "import random \n",
    "import numpy as np \n",
    "import matplotlib.pyplot as plt \n",
    "from sklearn.cluster import KMeans \n",
    "from sklearn.datasets.samples_generator import make_blobs \n",
    "%matplotlib inline"
   ]
  },
  {
   "cell_type": "markdown",
   "metadata": {
    "button": false,
    "new_sheet": false,
    "run_control": {
     "read_only": false
    }
   },
   "source": [
    "# k-Means em um conjunto de dados gerados aleatoriamente\n",
    "Vamos criar o nosso conjunto de dados:\n"
   ]
  },
  {
   "cell_type": "markdown",
   "metadata": {
    "button": false,
    "new_sheet": false,
    "run_control": {
     "read_only": false
    }
   },
   "source": [
    "Primeiro, precisamos configurar a seed aleatória. Use a função do numpy <b>random.seed()</b>, onde a seed será definida como <b>0</b>"
   ]
  },
  {
   "cell_type": "code",
   "execution_count": null,
   "metadata": {
    "button": false,
    "new_sheet": false,
    "run_control": {
     "read_only": false
    }
   },
   "outputs": [],
   "source": [
    "np.random.seed(0)"
   ]
  },
  {
   "cell_type": "markdown",
   "metadata": {
    "button": false,
    "new_sheet": false,
    "run_control": {
     "read_only": false
    }
   },
   "source": [
    "Em seguida vamos fazer <i>conjuntos aleatórios (random clusters)</i> de pontos usando a classe <b> make_blobs </b>. A classe <b> make_blobs </b> pode ter várias entradas, mas vamos utilizar apenas estas entradas específicas: <br> <br>\n",
    "<b> <u> Entrada </u> </b>\n",
    "<ul>\n",
    "    <li> <b>n_samples</b>: O número total de pontos igualmente divididos entre clusters. </li>\n",
    "    <ul> <li>O valor será: 5000 </li> </ul>\n",
    "    <li> <b>centers</b>: O número de centros a serem gerados ou as localizões centrais fixas.</li>\n",
    "    <ul> <li>O valor será: [[4, 4], [-2, -1], [2, -3],[1,1]] </li> </ul>\n",
    "    <li> <b>cluster_std</b>: O desvio padrão dos clusters. </li>\n",
    "    <ul> <li>O valor será: 0.9 </li> </ul>\n",
    "</ul>\n",
    "<br>\n",
    "<b> <u>Saída</u> </b>\n",
    "<ul>\n",
    "    <li> <b>X</b>: Array na forma [n_amostras, n_características]. (Matriz de características)</li>\n",
    "    <ul> <li> As amostras geradas. </li> </ul> \n",
    "    <li> <b>y</b>: Array na forma [n_amostras]. (Vetor de resposta)</li>\n",
    "    <ul> <li> Os rótulos inteiros para associação de cluster de cada amostra. </li> </ul>\n",
    "</ul>\n"
   ]
  },
  {
   "cell_type": "code",
   "execution_count": null,
   "metadata": {
    "button": false,
    "new_sheet": false,
    "run_control": {
     "read_only": false
    }
   },
   "outputs": [],
   "source": [
    "X, y = make_blobs(n_samples=5000, centers=[[4,4], [-2, -1], [2, -3], [1, 1]], cluster_std=0.9)"
   ]
  },
  {
   "cell_type": "markdown",
   "metadata": {
    "button": false,
    "new_sheet": false,
    "run_control": {
     "read_only": false
    }
   },
   "source": [
    "Exibe o gráfico de dispersão dos dados gerados aleatoriamente."
   ]
  },
  {
   "cell_type": "code",
   "execution_count": null,
   "metadata": {
    "button": false,
    "new_sheet": false,
    "run_control": {
     "read_only": false
    }
   },
   "outputs": [],
   "source": [
    "plt.scatter(X[:, 0], X[:, 1], marker='.')"
   ]
  },
  {
   "cell_type": "markdown",
   "metadata": {
    "button": false,
    "new_sheet": false,
    "run_control": {
     "read_only": false
    }
   },
   "source": [
    "## Configurando o K-Means\n",
    "Agora que geramos os nossos dados aleatórios, vamos configurar nosso K-Means Clustering."
   ]
  },
  {
   "cell_type": "markdown",
   "metadata": {
    "button": false,
    "new_sheet": false,
    "run_control": {
     "read_only": false
    }
   },
   "source": [
    "A classe KMeans tem muitos parâmetros que podem ser usados, mas estaremos usando estes três:\n",
    "<ul>\n",
    "    <li> <b>init</b>: Método de inicialização dos centróides. </li>\n",
    "    <ul>\n",
    "        <li> O valor será: \"k-means++\" </li>\n",
    "        <li> k-means++: Seleciona os centróides iniciais para os clusters de k-mean de uma maneira inteligente para acelerar a convergência.</li>\n",
    "    </ul>\n",
    "    <li> <b>n_clusters</b>: O número de clusters a serem formados, bem como o número de centróides a serem gerados. </li>\n",
    "    <ul> <li> O valor será: 4 (uma vez que temos 4 centros)</li> </ul>\n",
    "    <li> <b>n_init</b>: Número de vezes que o algoritmo k-means será executado com diferentes seeds (centróides). Os resultados finais serão a melhor saída de n_init execuções consecutivas em termos de \"distância\". </li>\n",
    "    <ul> <li> O valor será: 12 </li> </ul>\n",
    "</ul>\n",
    "\n",
    "Inicialize KMeans com estes parâmetros, onde o parâmetro de saída é chamado de <b>k_means</b>."
   ]
  },
  {
   "cell_type": "code",
   "execution_count": null,
   "metadata": {
    "button": false,
    "new_sheet": false,
    "run_control": {
     "read_only": false
    }
   },
   "outputs": [],
   "source": [
    "k_means = KMeans(init = \"k-means++\", n_clusters = 4, n_init = 12)"
   ]
  },
  {
   "cell_type": "markdown",
   "metadata": {
    "button": false,
    "new_sheet": false,
    "run_control": {
     "read_only": false
    }
   },
   "source": [
    "Agora vamos criar o modelo KMeans com a Matriz de características que criamos acima, <b>X</b>"
   ]
  },
  {
   "cell_type": "code",
   "execution_count": null,
   "metadata": {
    "button": false,
    "new_sheet": false,
    "run_control": {
     "read_only": false
    },
    "scrolled": false
   },
   "outputs": [],
   "source": [
    "k_means.fit(X)"
   ]
  },
  {
   "cell_type": "markdown",
   "metadata": {
    "button": false,
    "new_sheet": false,
    "run_control": {
     "read_only": false
    }
   },
   "source": [
    "Agora vamos pegar os rótulos para cada ponto no modelo usando o atributo <b>.labels\\_</b> do KMeans e salvá-lo como <b> k_means_labels</b>:"
   ]
  },
  {
   "cell_type": "code",
   "execution_count": null,
   "metadata": {
    "button": false,
    "new_sheet": false,
    "run_control": {
     "read_only": false
    }
   },
   "outputs": [],
   "source": [
    "k_means_labels = k_means.labels_\n",
    "k_means_labels"
   ]
  },
  {
   "cell_type": "markdown",
   "metadata": {
    "button": false,
    "new_sheet": false,
    "run_control": {
     "read_only": false
    }
   },
   "source": [
    "Também obteremos as coordenadas dos centros de cluster usando <b> .cluster&#95;centers&#95; </b> de KMeans e salvá-lo como <b>k_means_cluster_centers</b>"
   ]
  },
  {
   "cell_type": "code",
   "execution_count": null,
   "metadata": {
    "button": false,
    "new_sheet": false,
    "run_control": {
     "read_only": false
    }
   },
   "outputs": [],
   "source": [
    "k_means_cluster_centers = k_means.cluster_centers_\n",
    "k_means_cluster_centers"
   ]
  },
  {
   "cell_type": "markdown",
   "metadata": {
    "button": false,
    "new_sheet": false,
    "run_control": {
     "read_only": false
    }
   },
   "source": [
    "## Criando o gráfico\n",
    "Então, agora que temos os dados aleatórios gerados e o modelo do KMeans inicializado, vamos plotá-los e ver como ele se parece."
   ]
  },
  {
   "cell_type": "markdown",
   "metadata": {
    "button": false,
    "new_sheet": false,
    "run_control": {
     "read_only": false
    }
   },
   "source": [
    "Por favor, leia o código e os comentários para entender como plotar o modelo."
   ]
  },
  {
   "cell_type": "code",
   "execution_count": null,
   "metadata": {
    "button": false,
    "new_sheet": false,
    "run_control": {
     "read_only": false
    },
    "scrolled": false
   },
   "outputs": [],
   "source": [
    "# Inicialize o gráfico com as dimensões especificadas.\n",
    "fig = plt.figure(figsize=(6, 4))\n",
    "\n",
    "# Colors usa um mapa de cores, que produzirá uma matriz de cores com base no\n",
    "# número de marcadores existentes. Usamos set(k_means_labels) para obter os\n",
    "# rótulos exclusivos.\n",
    "colors = plt.cm.Spectral(np.linspace(0, 1, len(set(k_means_labels))))\n",
    "\n",
    "# Cria o gráfico\n",
    "ax = fig.add_subplot(1, 1, 1)\n",
    "\n",
    "# Laço de repetição que plota os pontos de dados e centróides.\n",
    "# k variará de 0 a 3, o que corresponde aos possíveis grupos (cluster) que cada\n",
    "# ponto pode pertencer.\n",
    "for k, col in zip(range(len([[4,4], [-2, -1], [2, -3], [1, 1]])), colors):\n",
    "\n",
    "    # Cria uma lista de todos os pontos, onde os pontos que estão \n",
    "    # no cluster (ex. Cluster 0) são rotulados como True,\n",
    "    # senão eles são rotulados como False.\n",
    "    my_members = (k_means_labels == k)\n",
    "    \n",
    "    # Define o centróide, ou centro do cluster.\n",
    "    cluster_center = k_means_cluster_centers[k]\n",
    "    \n",
    "    # Plota os pontos com cor \"col\".\n",
    "    ax.plot(X[my_members, 0], X[my_members, 1], 'w', markerfacecolor=col, marker='.')\n",
    "    \n",
    "    # Plota os centróides com cor especificada, mas com um contorno mais escuro\n",
    "    ax.plot(cluster_center[0], cluster_center[1], 'o', markerfacecolor=col,  markeredgecolor='k', markersize=6)\n",
    "\n",
    "# Titúlo do gráfico\n",
    "ax.set_title('KMeans')\n",
    "\n",
    "# Remove as marcações do eixo x\n",
    "ax.set_xticks(())\n",
    "\n",
    "# Remove as marcações do eixo y\n",
    "ax.set_yticks(())\n",
    "\n",
    "# Exibe o gráfico\n",
    "plt.show()\n"
   ]
  },
  {
   "cell_type": "markdown",
   "metadata": {},
   "source": [
    "## Prática\n",
    "Tente agrupar o conjunto de dados acima em três clusters. **Obs.:** não gere os dados novamente, use o mesmo conjunto de dados acima."
   ]
  },
  {
   "cell_type": "code",
   "execution_count": null,
   "metadata": {},
   "outputs": [],
   "source": [
    "# Escreva seu código aqui\n",
    "\n"
   ]
  },
  {
   "cell_type": "markdown",
   "metadata": {},
   "source": [
    "Duplo clique __aqui__ para a solução.\n",
    "\n",
    "<!-- A resposta está abaixo:\n",
    "\n",
    "k_means3 = KMeans(init = \"k-means++\", n_clusters = 3, n_init = 12)\n",
    "k_means3.fit(X)\n",
    "fig = plt.figure(figsize=(6, 4))\n",
    "colors = plt.cm.Spectral(np.linspace(0, 1, len(set(k_means3.labels_))))\n",
    "ax = fig.add_subplot(1, 1, 1)\n",
    "for k, col in zip(range(len(k_means3.cluster_centers_)), colors):\n",
    "    my_members = (k_means3.labels_ == k)\n",
    "    cluster_center = k_means3.cluster_centers_[k]\n",
    "    ax.plot(X[my_members, 0], X[my_members, 1], 'w', markerfacecolor=col, marker='.')\n",
    "    ax.plot(cluster_center[0], cluster_center[1], 'o', markerfacecolor=col,  markeredgecolor='k', markersize=6)\n",
    "plt.show()\n",
    "\n",
    "\n",
    "-->"
   ]
  },
  {
   "cell_type": "markdown",
   "metadata": {
    "button": false,
    "new_sheet": false,
    "run_control": {
     "read_only": false
    }
   },
   "source": [
    "# Segmentação de clientes com K-Means\n",
    "\n",
    "Imagine que você tenha um conjunto de dados de clientes e aplique a __Segmentação de cliente__ nesse conjunto de dados. Segmentação de clientes é a prática de particionar uma base de clientes em grupos de indivíduos que possuem características semelhantes. É uma estratégia interessante, uma vez que uma empresa pode segmentar esses grupos específicos de clientes e alocar efetivamente recursos de marketing. Por exemplo, um grupo pode conter clientes com alto lucro e baixo risco, ou seja, com maior probabilidade de comprar produtos ou se inscrever em um serviço. Pode-se definir estratégias para reter clientes com base nessa segmentação ou qualquer outra possibilidade de ação.\n",
    "\n",
    "O download dos dados que iremos utilizar nesse exemplo pode ser realizado por meio do IBM Object Storage, disponível em:"
   ]
  },
  {
   "cell_type": "markdown",
   "metadata": {
    "button": false,
    "new_sheet": false,
    "run_control": {
     "read_only": false
    }
   },
   "source": [
    "https://s3-api.us-geo.objectstorage.softlayer.net/cf-courses-data/CognitiveClass/ML0101ENv3/labs/Cust_Segmentation.csv"
   ]
  },
  {
   "cell_type": "markdown",
   "metadata": {
    "button": false,
    "new_sheet": false,
    "run_control": {
     "read_only": false
    }
   },
   "source": [
    "### Carregando dados do arquivo CSV\n",
    "Antes de trabalhar com os dados, você deve usar a carregar o arquivo Cust_Segmentation.csv."
   ]
  },
  {
   "cell_type": "code",
   "execution_count": null,
   "metadata": {
    "button": false,
    "new_sheet": false,
    "run_control": {
     "read_only": false
    }
   },
   "outputs": [],
   "source": [
    "import pandas as pd\n",
    "cust_df = pd.read_csv(\"Cust_Segmentation.csv\")\n",
    "cust_df.head()"
   ]
  },
  {
   "cell_type": "markdown",
   "metadata": {},
   "source": [
    "### Pré-processamento"
   ]
  },
  {
   "cell_type": "markdown",
   "metadata": {
    "button": false,
    "new_sheet": false,
    "run_control": {
     "read_only": false
    }
   },
   "source": [
    "Como você pode ver, __Address__ neste conjunto de dados é uma variável categórica. O algoritmo k-means não é diretamente aplicável a variáveis categóricas porque a função de distância euclidiana não é realmente significativa para variáveis discretas. Então, vamos descartar essa característica e executar o algoritmo de clustering."
   ]
  },
  {
   "cell_type": "code",
   "execution_count": null,
   "metadata": {
    "button": false,
    "new_sheet": false,
    "run_control": {
     "read_only": false
    }
   },
   "outputs": [],
   "source": [
    "df = cust_df.drop('Address', axis=1)\n",
    "df.head()"
   ]
  },
  {
   "cell_type": "markdown",
   "metadata": {
    "button": false,
    "new_sheet": false,
    "run_control": {
     "read_only": false
    }
   },
   "source": [
    "### Normalizando os dados\n",
    "Agora vamos normalizar o conjunto de dados. Mas por que precisamos de normalização em primeiro lugar? A normalização é um método estatístico que ajuda os algoritmos baseados em matemática a interpretar recursos com diferentes magnitudes e distribuições uniforme. Usamos __StandardScaler()__ para normalizar nosso conjunto de dados."
   ]
  },
  {
   "cell_type": "code",
   "execution_count": null,
   "metadata": {
    "button": false,
    "new_sheet": false,
    "run_control": {
     "read_only": false
    }
   },
   "outputs": [],
   "source": [
    "from sklearn.preprocessing import StandardScaler\n",
    "X = df.values[:,1:]\n",
    "X = np.nan_to_num(X)\n",
    "Clus_dataSet = StandardScaler().fit_transform(X)\n",
    "Clus_dataSet"
   ]
  },
  {
   "cell_type": "markdown",
   "metadata": {},
   "source": [
    "### Modelagem"
   ]
  },
  {
   "cell_type": "markdown",
   "metadata": {
    "button": false,
    "new_sheet": false,
    "run_control": {
     "read_only": false
    }
   },
   "source": [
    "Em nosso exemplo (se não tivéssemos acesso ao algoritmo k-means), seria o mesmo que adivinhar que cada grupo de clientes teria certa idade, renda, educação, etc., com múltiplos testes e experimentos. No entanto, usando o clustering K-means, podemos fazer todo esse processo muito mais fácil.\n",
    "\n",
    "Vamos aplicar k-means em nosso conjunto de dados e observar os rótulos de cluster."
   ]
  },
  {
   "cell_type": "code",
   "execution_count": null,
   "metadata": {
    "button": false,
    "new_sheet": false,
    "run_control": {
     "read_only": false
    }
   },
   "outputs": [],
   "source": [
    "clusterNum = 3\n",
    "k_means = KMeans(init = \"k-means++\", n_clusters = clusterNum, n_init = 12)\n",
    "k_means.fit(X)\n",
    "labels = k_means.labels_\n",
    "print(labels)"
   ]
  },
  {
   "cell_type": "markdown",
   "metadata": {
    "button": false,
    "new_sheet": false,
    "run_control": {
     "read_only": false
    }
   },
   "source": [
    "### Insights\n",
    "Atribuímos os rótulos a cada linha do conjunto de dados."
   ]
  },
  {
   "cell_type": "code",
   "execution_count": null,
   "metadata": {
    "button": false,
    "new_sheet": false,
    "run_control": {
     "read_only": false
    }
   },
   "outputs": [],
   "source": [
    "df[\"Clus_km\"] = labels\n",
    "df.head(5)"
   ]
  },
  {
   "cell_type": "markdown",
   "metadata": {
    "button": false,
    "new_sheet": false,
    "run_control": {
     "read_only": false
    }
   },
   "source": [
    "Podemos verificar facilmente os valores do centróide calculando a média das características em cada cluster."
   ]
  },
  {
   "cell_type": "code",
   "execution_count": null,
   "metadata": {
    "button": false,
    "new_sheet": false,
    "run_control": {
     "read_only": false
    }
   },
   "outputs": [],
   "source": [
    "df.groupby('Clus_km').mean()"
   ]
  },
  {
   "cell_type": "markdown",
   "metadata": {},
   "source": [
    "Agora, vamos analisar a distribuição de clientes com base em sua idade (Age) e renda (Income):"
   ]
  },
  {
   "cell_type": "code",
   "execution_count": null,
   "metadata": {
    "button": false,
    "new_sheet": false,
    "run_control": {
     "read_only": false
    }
   },
   "outputs": [],
   "source": [
    "area = np.pi * ( X[:, 1])**2  \n",
    "plt.scatter(X[:, 0], X[:, 3], s=area, c=labels.astype(np.float), alpha=0.5)\n",
    "plt.xlabel('Age', fontsize=18)\n",
    "plt.ylabel('Income', fontsize=16)\n",
    "\n",
    "plt.show()\n"
   ]
  },
  {
   "cell_type": "code",
   "execution_count": null,
   "metadata": {},
   "outputs": [],
   "source": [
    "from mpl_toolkits.mplot3d import Axes3D \n",
    "fig = plt.figure(1, figsize=(8, 6))\n",
    "plt.clf()\n",
    "ax = Axes3D(fig, rect=[0, 0, .95, 1], elev=48, azim=134)\n",
    "\n",
    "plt.cla()\n",
    "# plt.ylabel('Age', fontsize=18)\n",
    "# plt.xlabel('Income', fontsize=16)\n",
    "# plt.zlabel('Education', fontsize=16)\n",
    "ax.set_xlabel('Education')\n",
    "ax.set_ylabel('Age')\n",
    "ax.set_zlabel('Income')\n",
    "\n",
    "ax.scatter(X[:, 1], X[:, 0], X[:, 3], c= labels.astype(np.float))\n"
   ]
  },
  {
   "cell_type": "markdown",
   "metadata": {
    "button": false,
    "new_sheet": false,
    "run_control": {
     "read_only": false
    }
   },
   "source": [
    "O k-means particionará seus clientes em grupos mutuamente exclusivos, por exemplo, em 3 conjuntos (clusters). Os clientes em cada cluster são semelhantes entre si demograficamente. Agora podemos criar um perfil para cada grupo, considerando as características comuns de cada cluster.\n",
    "\n",
    "Por exemplo, os 3 clusters podem ser:\n",
    "- Rico, Educado e Idoso\n",
    "- Meia-idade e Classe Média\n",
    "- Jovem e Pobre"
   ]
  },
  {
   "cell_type": "markdown",
   "metadata": {
    "button": false,
    "new_sheet": false,
    "run_control": {
     "read_only": false
    }
   },
   "source": [
    "Esta aula foi desenvolvida com base no material disponibilizado por Saeed Aghabozorgi\n",
    "\n",
    "<p>Copyright &copy; 2018 <a href=\"https://cocl.us/DX0108EN_CC\">Cognitive Class</a>. This notebook and its source code are released under the terms of the <a href=\"https://bigdatauniversity.com/mit-license/\">MIT License</a>.</p>"
   ]
  }
 ],
 "metadata": {
  "kernelspec": {
   "display_name": "Python 3",
   "language": "python",
   "name": "python3"
  },
  "language_info": {
   "codemirror_mode": {
    "name": "ipython",
    "version": 3
   },
   "file_extension": ".py",
   "mimetype": "text/x-python",
   "name": "python",
   "nbconvert_exporter": "python",
   "pygments_lexer": "ipython3",
   "version": "3.7.1"
  },
  "widgets": {
   "state": {},
   "version": "1.1.2"
  }
 },
 "nbformat": 4,
 "nbformat_minor": 2
}
